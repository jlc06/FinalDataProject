{
 "cells": [
  {
   "cell_type": "code",
   "execution_count": 1,
   "id": "df47aeb1",
   "metadata": {},
   "outputs": [],
   "source": [
    "# Import dependencies\n",
    "import pandas as pd\n",
    "from sklearn import linear_model\n",
    "from sqlalchemy import create_engine"
   ]
  },
  {
   "cell_type": "code",
   "execution_count": 2,
   "id": "067a5251",
   "metadata": {},
   "outputs": [],
   "source": [
    "#Import functions\n",
    "def model(df, position, var):\n",
    "    df = df.dropna()\n",
    "    df = df[df['pos'] == position]   \n",
    "\n",
    "    # the model will use different independent variables depending on position\n",
    "    if position == 'QB':\n",
    "        X = df[var]\n",
    "    elif position == 'RB':\n",
    "        X = df[var]\n",
    "    elif position == 'WR' or 'TE':\n",
    "        X = df[var]\n",
    "    else:\n",
    "        print('Invalid position entered')\n",
    "        return\n",
    "\n",
    "    y = df['next_yr_ppg']\n",
    "    reg = linear_model.LinearRegression()\n",
    "    reg.fit(X, y)\n",
    "    return reg\n",
    "\n",
    "def testModelAccuracy(model, df, position, var):\n",
    "    # creates a df from the csvFile, drops na values and rows where FantPos\n",
    "    # does not equal the position parameter\n",
    "    df = df.dropna()\n",
    "    df = df[df['pos'] == position]\n",
    "\n",
    "    # the model will use different independent variables depending on position\n",
    "    if position == 'QB':\n",
    "        XTest = df[var]\n",
    "    elif position == 'RB':\n",
    "        XTest = df[var]\n",
    "    elif position == 'WR' or 'TE':\n",
    "        XTest = df[var]\n",
    "    else:\n",
    "        print('Invalid position entered')\n",
    "        return\n",
    "\n",
    "    yTest = df['next_yr_ppg']\n",
    "    results = model.score(XTest, yTest)\n",
    "    return results\n",
    "\n",
    "def testModelDifference(model, df, position, var):\n",
    "    # creates a df from the csvFile, drops na values and rows where FantPos\n",
    "    # does not equal the position parameter\n",
    "    df = df.dropna()\n",
    "    df = df[df['pos'] == position]\n",
    "\n",
    "    # the model will use different independent variables depending on position\n",
    "    if position == 'QB':\n",
    "        XTest = df[var]\n",
    "    elif position == 'RB':\n",
    "        XTest = df[var]\n",
    "    elif position == 'WR' or 'TE':\n",
    "        XTest = df[var]\n",
    "    else:\n",
    "        print('Invalid position entered')\n",
    "        return\n",
    "\n",
    "\n",
    "    yPred = model.predict(XTest)\n",
    "    predAndActual = {'Name': df['player'], 'Predicted PPG': yPred,\n",
    "                     'Actual PPG': df['next_yr_ppg']}\n",
    "\n",
    "    # creates df from dictionary above\n",
    "    database = pd.DataFrame(predAndActual)\n",
    "\n",
    "    # creates a difference column which depicts the difference between the\n",
    "    # predicted PPG and actual PPG\n",
    "    database['Predicted PPG'] = database['Predicted PPG'].round(decimals=3)\n",
    "    database['Difference'] = database['Predicted PPG'] - database['Actual PPG']\n",
    "    database['Difference'] = database['Difference'].round(decimals=3)\n",
    "    database['AbsDifference'] = database['Difference'].abs()\n",
    "    meanDiff = round(database['Difference'].mean(), 3)\n",
    "    medianDiff = round(database['Difference'].median(), 3)\n",
    "    meanAbsDiff = round(database['AbsDifference'].mean(), 3)\n",
    "    medianAbsDiff = round(database['AbsDifference'].median(), 3)\n",
    "\n",
    "    return database, meanDiff, medianDiff, meanAbsDiff, medianAbsDiff\n",
    "\n",
    "def testModel(model, test, train, position, var):\n",
    "    accuracy = testModelAccuracy(model, train, position, var)\n",
    "    differences = testModelDifference(model, test, position, var)\n",
    "    meanDiff = differences[1]\n",
    "    medDiff = differences[2]\n",
    "    meanAbsDiff = differences[3]\n",
    "    medAbsDiff = differences[4]\n",
    "\n",
    "    print('The accuracy of the {0} model is {1}'.format(position, accuracy))\n",
    "    print('The {0} model has an average error of {1} PPG and an average absolute error of {2} PPG'.format(position, meanDiff, meanAbsDiff))\n",
    "    print('The {0} model has a median error of {1} PPG and a median absolute error of {2} PPG'.format(position, medDiff, medAbsDiff))\n",
    "    print('\\n')\n",
    "    return\n",
    "\n",
    "def checkModel(model, df1, df2, position, var):\n",
    "    df1.dropna()\n",
    "    df2.dropna()\n",
    "    # checks where the Fant Pos is the position given and returns a data frame\n",
    "    # with only the rows that include said position\n",
    "    df1 = df1[df1['pos'] == position]\n",
    "    df2 = df2[df2['pos'] == position]\n",
    "    df2 = df2[['plid','player','ppr_g']]\n",
    "    newdf = df1.merge(df2,how='inner',left_on='plid',right_on='plid')\n",
    "\n",
    "    # the model will use difference parameters based on position\n",
    "    if position == 'QB':\n",
    "        X = df1[var]\n",
    "    elif position == 'RB':\n",
    "        X = df1[var]\n",
    "    elif position == 'WR' or 'TE':\n",
    "        X = df1[var]\n",
    "    else:\n",
    "        print('Invalid position entered')\n",
    "        return\n",
    "    yPred = model.predict(X)\n",
    "\n",
    "    # creates new df with the name of player, their position, and their\n",
    "    # predicted PPG\n",
    "    databaseDict = {'Name': df1['player'], 'Pos': df1['pos'], 'Predicted PPG': yPred}\n",
    "    database = pd.DataFrame(databaseDict)\n",
    "    database = database.merge(df2,how='inner',left_on='Name',right_on='player')\n",
    "    database = database.drop(columns=['player','plid'])\n",
    "    database['Difference'] = database['Predicted PPG'] - database['ppr_g']\n",
    "    database = database.sort_values(by = ['Predicted PPG'], ascending = False)\n",
    "    database['Predicted PPG'] = database['Predicted PPG'].round(decimals = 3)\n",
    "    database['Predicted PPR'] = 17 * database['Predicted PPG']\n",
    "    database['Predicted PPR'] = database['Predicted PPR'].round(decimals = 3)\n",
    "    database['AbsDifference'] = database['Difference'].abs()\n",
    "    meanDiff = round(database['Difference'].mean(), 3)\n",
    "    medianDiff = round(database['Difference'].median(), 3)\n",
    "    meanAbsDiff = round(database['AbsDifference'].mean(), 3)\n",
    "    medianAbsDiff = round(database['AbsDifference'].median(), 3)\n",
    "    print('The {0} model has an average error of {1} PPG and an average absolute error of {2} PPG'.format(position, meanDiff, meanAbsDiff))\n",
    "    print('The {0} model has a median error of {1} PPG and a median absolute error of {2} PPG'.format(position, medianDiff, medianAbsDiff))\n",
    "    database = database.sort_values(by = ['ppr_g'], ascending = False)\n",
    "    posRank = []\n",
    "    posRankNum = 1\n",
    "    for index, row in database.iterrows():\n",
    "        posRank.append(posRankNum)\n",
    "        posRankNum += 1\n",
    "\n",
    "    database['ActPosRank'] = posRank\n",
    "    database = database.sort_values(by = ['Predicted PPG'], ascending = False)\n",
    "     # this adds a position rank column to the dataframe\n",
    "    posRank = []\n",
    "    posRankNum = 1\n",
    "    for index, row in database.iterrows():\n",
    "        posRank.append(posRankNum)\n",
    "        posRankNum += 1\n",
    "\n",
    "    database['PosRank'] = posRank\n",
    "    \n",
    "\n",
    "    database = database.reset_index(drop = True)\n",
    "\n",
    "    return database\n",
    "\n",
    "def finalPredict(model, df, position, var):\n",
    "    df.dropna()\n",
    "    # checks where the Fant Pos is the position given and returns a data frame\n",
    "    # with only the rows that include said position\n",
    "    df = df[df['pos'] == position]\n",
    "\n",
    "    # the model will use difference parameters based on position\n",
    "    if position == 'QB':\n",
    "        X = df[var]\n",
    "    elif position == 'RB':\n",
    "        X = df[var]\n",
    "    elif position == 'WR' or 'TE':\n",
    "        X = df[var]\n",
    "    else:\n",
    "        print('Invalid position entered')\n",
    "        return\n",
    "    yPred = model.predict(X)\n",
    "\n",
    "    # creates new df with the name of player, their position, and their\n",
    "    # predicted PPG\n",
    "    databaseDict = {'Name': df['player'], 'Pos': df['pos'], 'Predicted PPG': yPred}\n",
    "    database = pd.DataFrame(databaseDict)\n",
    "    database = database.sort_values(by = ['Predicted PPG'], ascending = False)\n",
    "    database['Predicted PPG'] = database['Predicted PPG'].round(decimals = 3)\n",
    "    database['Predicted PPR'] = 17 * database['Predicted PPG']\n",
    "    database['Predicted PPR'] = database['Predicted PPR'].round(decimals = 3)\n",
    "\n",
    "\n",
    "     #this adds a position rank column to the dataframe\n",
    "    posRank = []\n",
    "    posRankNum = 1\n",
    "    for index, row in df.iterrows():\n",
    "        posRank.append(posRankNum)\n",
    "        posRankNum += 1\n",
    "\n",
    "    database['PosRank'] = posRank\n",
    "\n",
    "\n",
    "    database = database.reset_index(drop = True)\n",
    "\n",
    "    return database\n",
    "\n",
    "def combineData(listOfDataFrames):\n",
    "    # creates a df which contains the dataframes in the list which is passed in\n",
    "    df = pd.concat(listOfDataFrames)\n",
    "    df = df.sort_values(by = ['Predicted PPR'], ascending = False)\n",
    "\n",
    "    # gives players an overall ranking\n",
    "    rankings = []\n",
    "    rank = 1\n",
    "    for index, row in df.iterrows():\n",
    "        rankings.append(rank)\n",
    "        rank += 1\n",
    "\n",
    "    df['Ovr Rank'] = rankings\n",
    "\n",
    "    df = df.reset_index(drop = True)\n",
    "    return df"
   ]
  },
  {
   "cell_type": "code",
   "execution_count": 3,
   "id": "4e234566",
   "metadata": {},
   "outputs": [
    {
     "name": "stderr",
     "output_type": "stream",
     "text": [
      "/opt/anaconda3/envs/mlenv/lib/python3.7/site-packages/psycopg2/__init__.py:144: UserWarning: The psycopg2 wheel package will be renamed from release 2.8; in order to keep installing from binary please use \"pip install psycopg2-binary\" instead. For details see: <http://initd.org/psycopg/docs/install.html#binary-install-from-pypi>.\n",
      "  \"\"\")\n"
     ]
    }
   ],
   "source": [
    "# Connect to Database\n",
    "# Postgres username, password, and database name\n",
    "POSTGRES_ADDRESS = 'fballfinalproject.c6sg90iemyn2.us-east-2.rds.amazonaws.com' ## INSERT YOUR DB ADDRESS \n",
    "POSTGRES_PORT = '5432'\n",
    "POSTGRES_USERNAME = 'postgres' ## CHANGE THIS TO YOUR POSTGRES USERNAME\n",
    "POSTGRES_PASSWORD = 'FFForesight5!!' ## CHANGE THIS TO YOUR POSTGRES PASSWORD \n",
    "POSTGRES_DBNAME = 'postgres' ## CHANGE THIS TO YOUR DATABASE NAME\n",
    "# A long string that contains the necessary Postgres login information\n",
    "postgres_str = ('postgresql://{username}:{password}@{ipaddress}:{port}/{dbname}').format(\n",
    "    username=POSTGRES_USERNAME,\n",
    "    password=POSTGRES_PASSWORD,\n",
    "    ipaddress=POSTGRES_ADDRESS,\n",
    "    port=POSTGRES_PORT,\n",
    "    dbname=POSTGRES_DBNAME)\n",
    "# Create the connection\n",
    "cnx = create_engine(postgres_str)"
   ]
  },
  {
   "cell_type": "code",
   "execution_count": 4,
   "id": "d267cff7",
   "metadata": {},
   "outputs": [],
   "source": [
    "# Read in dataframes from AWS database\n",
    "df = pd.read_sql_query('''SELECT fantasy.*,\n",
    "teams.pasatt_g AS tm_passatt,\n",
    "teams.passrate,teams.rushatt_g AS tm_rushatt\n",
    "FROM fantasy \n",
    "INNER JOIN teams \n",
    "ON fantasy.tmid = teams.tmid;''',cnx)\n",
    "\n",
    "df2 = pd.read_sql_query('''SELECT fantasy.*,\n",
    "teams.pasatt_g  AS tm_passatt, \n",
    "teams.passrate, teams.rushatt_g AS tm_rushatt,\n",
    "arus.ybc_g, arus.ybcont_a, arus.yac_g, arus.yacont_a, arus.brktkl_g, arus.att_brtk\n",
    "FROM fantasy\n",
    "INNER JOIN teams \n",
    "ON fantasy.tmid = teams.tmid\n",
    "INNER JOIN advrush AS arus\n",
    "ON fantasy.plid = arus.plid;''',cnx)\n",
    "\n",
    "df3 = pd.read_sql_query('''SELECT fantasy.*,\n",
    "teams.pasatt_g  AS tm_passatt, \n",
    "teams.passrate, teams.rushatt_g AS tm_rushatt,\n",
    "arec.avgdot, arec.ybc_g, arec.ydsbc_rec, arec.yac_g, arec.ydsac_rec, arec.brktkl_g, arec.drop_g, arec.passrat\n",
    "FROM fantasy\n",
    "INNER JOIN teams \n",
    "ON fantasy.tmid = teams.tmid\n",
    "INNER JOIN advrec AS arec\n",
    "ON fantasy.plid = arec.plid;''',cnx)\n",
    "\n",
    "starters = pd.read_sql_query('''SELECT starter AS qbstarter,\n",
    "tm,\n",
    "\"Year\",\n",
    "plid AS stid,\n",
    "tmid\n",
    "FROM starters;''',cnx)\n",
    "\n",
    "startpass = pd.read_sql_query('''SELECT player,\n",
    "team,\n",
    "cmp,\n",
    "att,\n",
    "yds,\n",
    "td,\n",
    "\"Int\",\n",
    "avgrate AS averagepassrate,\n",
    "passrate AS overallpassrate,\n",
    "\"Year\",\n",
    "plid AS startid\n",
    "FROM passerratings;''',cnx)"
   ]
  },
  {
   "cell_type": "code",
   "execution_count": 5,
   "id": "5b7923df",
   "metadata": {},
   "outputs": [],
   "source": [
    "# Manipulate df to add rush and target share\n",
    "df['rushshare'] = df['rushatt_g'] / df['tm_rushatt']\n",
    "df['targetshare'] = df['tgt_g'] / df['tm_passatt']\n",
    "df2['rushshare'] = df2['rushatt_g'] / df2['tm_rushatt']\n",
    "df2['targetshare'] = df2['tgt_g'] / df2['tm_passatt']\n",
    "df3['rushshare'] = df3['rushatt_g'] / df3['tm_rushatt']\n",
    "df3['targetshare'] = df3['tgt_g'] / df3['tm_passatt']"
   ]
  },
  {
   "cell_type": "code",
   "execution_count": 6,
   "id": "1091bab6",
   "metadata": {},
   "outputs": [],
   "source": [
    "df = df.sort_values(by = ['player','yr'], ascending = [True,False])\n",
    "df2 = df2.sort_values(by = ['player','yr'], ascending = [True,False])\n",
    "df3 = df3.sort_values(by = ['player','yr'], ascending = [True,False])"
   ]
  },
  {
   "cell_type": "code",
   "execution_count": 7,
   "id": "4cff4d58",
   "metadata": {},
   "outputs": [],
   "source": [
    "# Add next year team to each player\n",
    "nextYearTm = []\n",
    "nextYearTmID = []\n",
    "lastPlayer = 'NaN'\n",
    "lastPlayerTm = 'NaN'\n",
    "\n",
    "\n",
    "for index, row in df.iterrows():\n",
    "    player = row['player']\n",
    "    if lastPlayer == player:\n",
    "        nextYearTm.append(lastPlayerTm)\n",
    "        yr = row['yr'] + 1\n",
    "        nextYearTmID.append(lastPlayerTm + str(yr))\n",
    "    else:\n",
    "        nextYearTm.append('NaN')\n",
    "        nextYearTmID.append('NaN')\n",
    "    lastPlayer = row['player']\n",
    "    lastPlayerTm = row['tm']\n",
    "\n",
    "df['NextTm'] = nextYearTm\n",
    "df['NextTmID'] = nextYearTmID"
   ]
  },
  {
   "cell_type": "code",
   "execution_count": 8,
   "id": "762472ce",
   "metadata": {},
   "outputs": [],
   "source": [
    "# Add next year team to each player\n",
    "nextYearTm = []\n",
    "nextYearTmID = []\n",
    "lastPlayer = 'NaN'\n",
    "lastPlayerTm = 'NaN'\n",
    "\n",
    "\n",
    "for index, row in df2.iterrows():\n",
    "    player = row['player']\n",
    "    if lastPlayer == player:\n",
    "        nextYearTm.append(lastPlayerTm)\n",
    "        yr = row['yr'] + 1\n",
    "        nextYearTmID.append(lastPlayerTm + str(yr))\n",
    "    else:\n",
    "        nextYearTm.append('NaN')\n",
    "        nextYearTmID.append('NaN')\n",
    "    lastPlayer = row['player']\n",
    "    lastPlayerTm = row['tm']\n",
    "\n",
    "df2['NextTm'] = nextYearTm\n",
    "df2['NextTmID'] = nextYearTmID"
   ]
  },
  {
   "cell_type": "code",
   "execution_count": 9,
   "id": "f91f9d04",
   "metadata": {},
   "outputs": [],
   "source": [
    "# Add next year team to each player\n",
    "nextYearTm = []\n",
    "nextYearTmID = []\n",
    "lastPlayer = 'NaN'\n",
    "lastPlayerTm = 'NaN'\n",
    "\n",
    "\n",
    "for index, row in df3.iterrows():\n",
    "    player = row['player']\n",
    "    if lastPlayer == player:\n",
    "        nextYearTm.append(lastPlayerTm)\n",
    "        yr = row['yr'] + 1\n",
    "        nextYearTmID.append(lastPlayerTm + str(yr))\n",
    "    else:\n",
    "        nextYearTm.append('NaN')\n",
    "        nextYearTmID.append('NaN')\n",
    "    lastPlayer = row['player']\n",
    "    lastPlayerTm = row['tm']\n",
    "\n",
    "df3['NextTm'] = nextYearTm\n",
    "df3['NextTmID'] = nextYearTmID"
   ]
  },
  {
   "cell_type": "code",
   "execution_count": 10,
   "id": "ff1bbca2",
   "metadata": {},
   "outputs": [],
   "source": [
    "# Merge with starter dataframe and cleanup\n",
    "import numpy as np\n",
    "df = pd.merge(df,starters[['tmid','qbstarter','stid']],left_on='NextTmID',right_on='tmid',how='outer')\n",
    "df = df[df['player'].notna()]\n",
    "df.drop(columns='tmid_y',inplace=True)\n",
    "df.rename(columns={\"tmid_x\": \"tmid\"},inplace=True)\n",
    "df['age'] = df['age'].apply(np.int64)\n",
    "df['G'] = df['G'].apply(np.int64)\n",
    "df['gs'] = df['gs'].apply(np.int64)\n",
    "df['posrk'] = df['posrk'].apply(np.int64)\n",
    "df['ovrank'] = df['ovrank'].apply(np.int64)\n",
    "df['yr'] = df['yr'].apply(np.int64)\n",
    "df['starter'] = df['starter'].apply(np.int64)"
   ]
  },
  {
   "cell_type": "code",
   "execution_count": 11,
   "id": "28e64eb2",
   "metadata": {},
   "outputs": [],
   "source": [
    "# Merge with starter dataframe and cleanup\n",
    "import numpy as np\n",
    "df2 = pd.merge(df2,starters[['tmid','qbstarter','stid']],left_on='NextTmID',right_on='tmid',how='outer')\n",
    "df2 = df2[df2['player'].notna()]\n",
    "df2.drop(columns='tmid_y',inplace=True)\n",
    "df2.rename(columns={\"tmid_x\": \"tmid\"},inplace=True)\n",
    "df2['age'] = df2['age'].apply(np.int64)\n",
    "df2['G'] = df2['G'].apply(np.int64)\n",
    "df2['gs'] = df2['gs'].apply(np.int64)\n",
    "df2['posrk'] = df2['posrk'].apply(np.int64)\n",
    "df2['ovrank'] = df2['ovrank'].apply(np.int64)\n",
    "df2['yr'] = df2['yr'].apply(np.int64)\n",
    "df2['starter'] = df2['starter'].apply(np.int64)"
   ]
  },
  {
   "cell_type": "code",
   "execution_count": 12,
   "id": "90151ff6",
   "metadata": {},
   "outputs": [],
   "source": [
    "# Merge with starter dataframe and cleanup\n",
    "import numpy as np\n",
    "df3 = pd.merge(df3,starters[['tmid','qbstarter','stid']],left_on='NextTmID',right_on='tmid',how='outer')\n",
    "df3 = df3[df3['player'].notna()]\n",
    "df3.drop(columns='tmid_y',inplace=True)\n",
    "df3.rename(columns={\"tmid_x\": \"tmid\"},inplace=True)\n",
    "df3['age'] = df3['age'].apply(np.int64)\n",
    "df3['G'] = df3['G'].apply(np.int64)\n",
    "df3['gs'] = df3['gs'].apply(np.int64)\n",
    "df3['posrk'] = df3['posrk'].apply(np.int64)\n",
    "df3['ovrank'] = df3['ovrank'].apply(np.int64)\n",
    "df3['yr'] = df3['yr'].apply(np.int64)\n",
    "df3['starter'] = df3['starter'].apply(np.int64)"
   ]
  },
  {
   "cell_type": "code",
   "execution_count": 13,
   "id": "c5d6f0d9",
   "metadata": {},
   "outputs": [],
   "source": [
    "df = df.sort_values(by = ['player','yr'], ascending = [True,False],ignore_index=True)\n",
    "df2 = df2.sort_values(by = ['player','yr'], ascending = [True,False],ignore_index=True)\n",
    "df3 = df3.sort_values(by = ['player','yr'], ascending = [True,False],ignore_index=True)"
   ]
  },
  {
   "cell_type": "code",
   "execution_count": 14,
   "id": "250c52eb",
   "metadata": {},
   "outputs": [],
   "source": [
    "# Create connection for passratings df\n",
    "connect = []\n",
    "for index, row in df.iterrows():\n",
    "    if row['qbstarter'] == 'NaN':\n",
    "        connect.append('NaN')\n",
    "    else:\n",
    "        connect.append(str(row['qbstarter'])+str(row['yr']))\n",
    "df['connect'] = connect"
   ]
  },
  {
   "cell_type": "code",
   "execution_count": 15,
   "id": "01ecc84d",
   "metadata": {},
   "outputs": [],
   "source": [
    "# Create connection for passratings df\n",
    "connect = []\n",
    "for index, row in df2.iterrows():\n",
    "    if row['qbstarter'] == 'NaN':\n",
    "        connect.append('NaN')\n",
    "    else:\n",
    "        connect.append(str(row['qbstarter'])+str(row['yr']))\n",
    "df2['connect'] = connect"
   ]
  },
  {
   "cell_type": "code",
   "execution_count": 16,
   "id": "320ef6c9",
   "metadata": {},
   "outputs": [],
   "source": [
    "# Create connection for passratings df\n",
    "connect = []\n",
    "for index, row in df3.iterrows():\n",
    "    if row['qbstarter'] == 'NaN':\n",
    "        connect.append('NaN')\n",
    "    else:\n",
    "        connect.append(str(row['qbstarter'])+str(row['yr']))\n",
    "df3['connect'] = connect"
   ]
  },
  {
   "cell_type": "code",
   "execution_count": 17,
   "id": "6593ba38",
   "metadata": {},
   "outputs": [],
   "source": [
    "df = df.sort_values(by = ['player','yr'], ascending = [True,False],ignore_index=True)\n",
    "df2 = df2.sort_values(by = ['player','yr'], ascending = [True,False],ignore_index=True)\n",
    "df3 = df3.sort_values(by = ['player','yr'], ascending = [True,False],ignore_index=True)"
   ]
  },
  {
   "cell_type": "code",
   "execution_count": 18,
   "id": "01835501",
   "metadata": {},
   "outputs": [],
   "source": [
    "# Merge df with passerratings of QBs\n",
    "df = pd.merge(df,startpass[['startid','averagepassrate','overallpassrate']],left_on='connect',right_on='startid',how='outer')\n",
    "df = df[df['player'].notna()]\n",
    "df.drop(columns='startid',inplace=True)\n",
    "df['age'] = df['age'].apply(np.int64)\n",
    "df['G'] = df['G'].apply(np.int64)\n",
    "df['gs'] = df['gs'].apply(np.int64)\n",
    "df['posrk'] = df['posrk'].apply(np.int64)\n",
    "df['ovrank'] = df['ovrank'].apply(np.int64)\n",
    "df['yr'] = df['yr'].apply(np.int64)\n",
    "df['starter'] = df['starter'].apply(np.int64)"
   ]
  },
  {
   "cell_type": "code",
   "execution_count": 19,
   "id": "f1718211",
   "metadata": {},
   "outputs": [],
   "source": [
    "# Merge df with passerratings of QBs\n",
    "df2 = pd.merge(df2,startpass[['startid','averagepassrate','overallpassrate']],left_on='connect',right_on='startid',how='outer')\n",
    "df2 = df2[df2['player'].notna()]\n",
    "df2.drop(columns='startid',inplace=True)\n",
    "df2['age'] = df2['age'].apply(np.int64)\n",
    "df2['G'] = df2['G'].apply(np.int64)\n",
    "df2['gs'] = df2['gs'].apply(np.int64)\n",
    "df2['posrk'] = df2['posrk'].apply(np.int64)\n",
    "df2['ovrank'] = df2['ovrank'].apply(np.int64)\n",
    "df2['yr'] = df2['yr'].apply(np.int64)\n",
    "df2['starter'] = df2['starter'].apply(np.int64)"
   ]
  },
  {
   "cell_type": "code",
   "execution_count": 20,
   "id": "5f9a6f06",
   "metadata": {},
   "outputs": [],
   "source": [
    "# Merge df with passerratings of QBs\n",
    "df3 = pd.merge(df3,startpass[['startid','averagepassrate','overallpassrate']],left_on='connect',right_on='startid',how='outer')\n",
    "df3 = df3[df3['player'].notna()]\n",
    "df3.drop(columns='startid',inplace=True)\n",
    "df3['age'] = df3['age'].apply(np.int64)\n",
    "df3['G'] = df3['G'].apply(np.int64)\n",
    "df3['gs'] = df3['gs'].apply(np.int64)\n",
    "df3['posrk'] = df3['posrk'].apply(np.int64)\n",
    "df3['ovrank'] = df3['ovrank'].apply(np.int64)\n",
    "df3['yr'] = df3['yr'].apply(np.int64)\n",
    "df3['starter'] = df3['starter'].apply(np.int64)"
   ]
  },
  {
   "cell_type": "code",
   "execution_count": 21,
   "id": "1f0d3d18",
   "metadata": {},
   "outputs": [],
   "source": [
    "start22 = starters[starters['Year'] == 2022]"
   ]
  },
  {
   "cell_type": "code",
   "execution_count": 22,
   "id": "1cf49fe4",
   "metadata": {},
   "outputs": [],
   "source": [
    "# Get list of 2022 starters to add to rows\n",
    "starters2022 = []\n",
    "for index, row in start22.iterrows():\n",
    "    starters2022.append(row['qbstarter'])"
   ]
  },
  {
   "cell_type": "code",
   "execution_count": 23,
   "id": "4f1740a9",
   "metadata": {},
   "outputs": [],
   "source": [
    "# Designate if QB is starting in 2022\n",
    "for index, row in df.iterrows():\n",
    "    if (row['yr'] == 2021) & (row['pos'] == 'QB'):\n",
    "        if row['player'] in starters2022:\n",
    "            df.at[index,'next_yr_starter'] = 1\n",
    "        else:\n",
    "            df.at[index,'next_yr_starter'] = 0\n",
    "    else:\n",
    "        continue"
   ]
  },
  {
   "cell_type": "code",
   "execution_count": 24,
   "id": "9543cea6",
   "metadata": {},
   "outputs": [],
   "source": [
    "# Designate if QB is starting in 2022\n",
    "for index, row in df2.iterrows():\n",
    "    if (row['yr'] == 2021) & (row['pos'] == 'QB'):\n",
    "        if row['player'] in starters2022:\n",
    "            df2.at[index,'next_yr_starter'] = 1\n",
    "        else:\n",
    "            df2.at[index,'next_yr_starter'] = 0\n",
    "    else:\n",
    "        continue"
   ]
  },
  {
   "cell_type": "code",
   "execution_count": 25,
   "id": "61c42c68",
   "metadata": {},
   "outputs": [],
   "source": [
    "# Designate if QB is starting in 2022\n",
    "for index, row in df3.iterrows():\n",
    "    if (row['yr'] == 2021) & (row['pos'] == 'QB'):\n",
    "        if row['player'] in starters2022:\n",
    "            df3.at[index,'next_yr_starter'] = 1\n",
    "        else:\n",
    "            df3.at[index,'next_yr_starter'] = 0\n",
    "    else:\n",
    "        continue"
   ]
  },
  {
   "cell_type": "code",
   "execution_count": 26,
   "id": "c155014a",
   "metadata": {},
   "outputs": [
    {
     "data": {
      "text/plain": [
       "5266"
      ]
     },
     "execution_count": 26,
     "metadata": {},
     "output_type": "execute_result"
    }
   ],
   "source": [
    "len(df)"
   ]
  },
  {
   "cell_type": "code",
   "execution_count": 27,
   "id": "3dbd890e",
   "metadata": {},
   "outputs": [
    {
     "data": {
      "text/plain": [
       "997"
      ]
     },
     "execution_count": 27,
     "metadata": {},
     "output_type": "execute_result"
    }
   ],
   "source": [
    "len(df2)"
   ]
  },
  {
   "cell_type": "code",
   "execution_count": 28,
   "id": "b8ff4eee",
   "metadata": {},
   "outputs": [
    {
     "data": {
      "text/plain": [
       "1409"
      ]
     },
     "execution_count": 28,
     "metadata": {},
     "output_type": "execute_result"
    }
   ],
   "source": [
    "len(df3)"
   ]
  },
  {
   "cell_type": "code",
   "execution_count": 29,
   "id": "19bd5687",
   "metadata": {},
   "outputs": [
    {
     "data": {
      "text/plain": [
       "Index(['player', 'tm', 'pos', 'age', 'G', 'gs', 'plid', 'tmid', 'cmp_g',\n",
       "       'passatt_g', 'passyds_g', 'passtd_g', 'int_g', 'rushatt_g', 'rushyds_g',\n",
       "       'rushyds_att', 'rushtd_g', 'tgt_g', 'rec_g', 'recyds_g', 'yds_rec',\n",
       "       'rectd_g', 'fmb_g', 'fl_g', 'tottd_g', '2PM_G', '2PP_G', 'fpts',\n",
       "       'posrk', 'ovrank', 'yr', 'ppr_g', 'starter', 'next_yr_ppg',\n",
       "       'next_yr_starter', 'tm_passatt', 'passrate', 'tm_rushatt', 'rushshare',\n",
       "       'targetshare', 'NextTm', 'NextTmID', 'qbstarter', 'stid', 'connect',\n",
       "       'averagepassrate', 'overallpassrate'],\n",
       "      dtype='object')"
      ]
     },
     "execution_count": 29,
     "metadata": {},
     "output_type": "execute_result"
    }
   ],
   "source": [
    "# List out df columns\n",
    "df.columns"
   ]
  },
  {
   "cell_type": "code",
   "execution_count": 30,
   "id": "e3677abb",
   "metadata": {},
   "outputs": [
    {
     "data": {
      "text/plain": [
       "Index(['player', 'tm', 'pos', 'age', 'G', 'gs', 'plid', 'tmid', 'cmp_g',\n",
       "       'passatt_g', 'passyds_g', 'passtd_g', 'int_g', 'rushatt_g', 'rushyds_g',\n",
       "       'rushyds_att', 'rushtd_g', 'tgt_g', 'rec_g', 'recyds_g', 'yds_rec',\n",
       "       'rectd_g', 'fmb_g', 'fl_g', 'tottd_g', '2PM_G', '2PP_G', 'fpts',\n",
       "       'posrk', 'ovrank', 'yr', 'ppr_g', 'starter', 'next_yr_ppg',\n",
       "       'next_yr_starter', 'tm_passatt', 'passrate', 'tm_rushatt', 'ybc_g',\n",
       "       'ybcont_a', 'yac_g', 'yacont_a', 'brktkl_g', 'att_brtk', 'rushshare',\n",
       "       'targetshare', 'NextTm', 'NextTmID', 'qbstarter', 'stid', 'connect',\n",
       "       'averagepassrate', 'overallpassrate'],\n",
       "      dtype='object')"
      ]
     },
     "execution_count": 30,
     "metadata": {},
     "output_type": "execute_result"
    }
   ],
   "source": [
    "df2.columns"
   ]
  },
  {
   "cell_type": "code",
   "execution_count": 31,
   "id": "14ef4016",
   "metadata": {},
   "outputs": [
    {
     "data": {
      "text/plain": [
       "Index(['player', 'tm', 'pos', 'age', 'G', 'gs', 'plid', 'tmid', 'cmp_g',\n",
       "       'passatt_g', 'passyds_g', 'passtd_g', 'int_g', 'rushatt_g', 'rushyds_g',\n",
       "       'rushyds_att', 'rushtd_g', 'tgt_g', 'rec_g', 'recyds_g', 'yds_rec',\n",
       "       'rectd_g', 'fmb_g', 'fl_g', 'tottd_g', '2PM_G', '2PP_G', 'fpts',\n",
       "       'posrk', 'ovrank', 'yr', 'ppr_g', 'starter', 'next_yr_ppg',\n",
       "       'next_yr_starter', 'tm_passatt', 'passrate', 'tm_rushatt', 'avgdot',\n",
       "       'ybc_g', 'ydsbc_rec', 'yac_g', 'ydsac_rec', 'brktkl_g', 'drop_g',\n",
       "       'passrat', 'rushshare', 'targetshare', 'NextTm', 'NextTmID',\n",
       "       'qbstarter', 'stid', 'connect', 'averagepassrate', 'overallpassrate'],\n",
       "      dtype='object')"
      ]
     },
     "execution_count": 31,
     "metadata": {},
     "output_type": "execute_result"
    }
   ],
   "source": [
    "df3.columns"
   ]
  },
  {
   "cell_type": "code",
   "execution_count": 32,
   "id": "639d6293",
   "metadata": {},
   "outputs": [],
   "source": [
    "# Select columns for each position (WR + TE joined in recvar)\n",
    "qbvar = ['age','passatt_g','passyds_g','passtd_g','rushatt_g','rushyds_g',\n",
    "         'rushyds_att','ppr_g','starter','next_yr_starter']\n",
    "rbvar = ['age','rushatt_g','rushyds_g','rushyds_att','tgt_g','rec_g',\n",
    "         'recyds_g','yds_rec','ppr_g','ybc_g','yac_g','brktkl_g',\n",
    "         'rushshare','targetshare']\n",
    "recvar = ['age','tgt_g','rec_g','recyds_g','yds_rec','avgdot','ybc_g', \n",
    "          'yac_g','passrate','targetshare']"
   ]
  },
  {
   "cell_type": "code",
   "execution_count": 33,
   "id": "4ef69d6d",
   "metadata": {},
   "outputs": [],
   "source": [
    "# Separate into training, testing, using, and actual data by Yr (Fantasy) or Year (other dataframes)\n",
    "train = df[df['yr'] <= 2020]\n",
    "test = df[(df['yr'] >= 2020) & (df['yr'] <= 2021)]\n",
    "use = df[df['yr'] == 2020]\n",
    "use = use[use['next_yr_starter'].notna()]\n",
    "use = use.astype({\"next_yr_starter\": int})\n",
    "actuals = df[df['yr'] == 2021]"
   ]
  },
  {
   "cell_type": "code",
   "execution_count": 34,
   "id": "e6a246c0",
   "metadata": {},
   "outputs": [],
   "source": [
    "# Separate into training, testing, using, and actual data by Yr (Fantasy) or Year (other dataframes)\n",
    "train2 = df2[df2['yr'] <= 2020]\n",
    "test2 = df2[(df2['yr'] >= 2020) & (df2['yr'] <= 2021)]\n",
    "use2 = df2[df2['yr'] == 2020]\n",
    "use2 = use2[use2['next_yr_starter'].notna()]\n",
    "use2 = use2.astype({\"next_yr_starter\": int})\n",
    "actuals2 = df2[df2['yr'] == 2021]"
   ]
  },
  {
   "cell_type": "code",
   "execution_count": 35,
   "id": "7971bfe9",
   "metadata": {},
   "outputs": [],
   "source": [
    "# Separate into training, testing, using, and actual data by Yr (Fantasy) or Year (other dataframes)\n",
    "train3 = df3[df3['yr'] <= 2020]\n",
    "test3 = df3[(df3['yr'] >= 2020) & (df3['yr'] <= 2021)]\n",
    "use3 = df3[df3['yr'] == 2020]\n",
    "use3 = use3[use3['next_yr_starter'].notna()]\n",
    "use3 = use3.astype({\"next_yr_starter\": int})\n",
    "actuals3 = df3[df3['yr'] == 2021]"
   ]
  },
  {
   "cell_type": "code",
   "execution_count": 36,
   "id": "06ee5da8",
   "metadata": {},
   "outputs": [
    {
     "name": "stdout",
     "output_type": "stream",
     "text": [
      "The accuracy of the QB model is 0.6968358574620972\n",
      "The QB model has an average error of 0.152 PPG and an average absolute error of 2.912 PPG\n",
      "The QB model has a median error of 0.418 PPG and a median absolute error of 2.471 PPG\n",
      "\n",
      "\n",
      "The accuracy of the RB model is 0.6102178440389601\n",
      "The RB model has an average error of -0.165 PPG and an average absolute error of 2.747 PPG\n",
      "The RB model has a median error of 0.028 PPG and a median absolute error of 2.085 PPG\n",
      "\n",
      "\n",
      "The accuracy of the WR model is 0.6322582403825846\n",
      "The WR model has an average error of 0.309 PPG and an average absolute error of 2.589 PPG\n",
      "The WR model has a median error of 0.573 PPG and a median absolute error of 2.319 PPG\n",
      "\n",
      "\n",
      "The accuracy of the TE model is 0.7099323736905525\n",
      "The TE model has an average error of 0.054 PPG and an average absolute error of 1.837 PPG\n",
      "The TE model has a median error of 0.471 PPG and a median absolute error of 1.593 PPG\n",
      "\n",
      "\n"
     ]
    }
   ],
   "source": [
    "# Name model and put in position\n",
    "QBmodel = model(train, \"QB\", qbvar)\n",
    "RBmodel = model(train2, \"RB\", rbvar)\n",
    "WRmodel = model(train3, \"WR\", recvar)\n",
    "TEmodel = model(train3, \"TE\", recvar)\n",
    "testModel(QBmodel, test, train, \"QB\", qbvar)\n",
    "testModel(RBmodel, test2, train2, \"RB\", rbvar)\n",
    "testModel(WRmodel, test3, train3, \"WR\", recvar)\n",
    "testModel(TEmodel, test3, train3, \"TE\", recvar)"
   ]
  },
  {
   "cell_type": "code",
   "execution_count": null,
   "id": "8404ba09",
   "metadata": {},
   "outputs": [],
   "source": [
    "# Use model to make predictions and check predictions\n",
    "QBStats = checkModel(QBmodel, use, actuals, 'QB', qbvar)\n",
    "RBStats = checkModel(RBmodel, use2, actuals2,'RB', rbvar)\n",
    "WRStats = checkModel(WRmodel, use3, actuals3, 'WR', recvar)\n",
    "TEStats = checkModel(TEmodel, use3, actuals3, 'TE', recvar)"
   ]
  },
  {
   "cell_type": "code",
   "execution_count": null,
   "id": "18701e32",
   "metadata": {},
   "outputs": [],
   "source": [
    "data = [QBStats, RBStats, WRStats, TEStats]\n",
    "fullData = combineData(data)\n",
    "#fullData.to_csv('predictedAdvStats2021.csv')"
   ]
  },
  {
   "cell_type": "code",
   "execution_count": null,
   "id": "1854379c",
   "metadata": {},
   "outputs": [],
   "source": [
    "fullData"
   ]
  },
  {
   "cell_type": "code",
   "execution_count": null,
   "id": "3cd07912",
   "metadata": {},
   "outputs": [],
   "source": [
    "#QBSfinal = finalPredict(QBmodel,actuals, 'QB', qbvar1)\n",
    "QBSfinal = finalPredict(QBmodel, actuals, 'QB', qbvar)\n",
    "RBSfinal = finalPredict(RBmodel, actuals2,'RB', rbvar)\n",
    "WRSfinal = finalPredict(WRmodel, actuals3, 'WR', recvar)\n",
    "TESfinal = finalPredict(TEmodel, actuals3, 'TE', recvar)"
   ]
  },
  {
   "cell_type": "code",
   "execution_count": null,
   "id": "21ae63e0",
   "metadata": {},
   "outputs": [],
   "source": [
    "data = [QBSfinal,RBSfinal, WRSfinal, TESfinal]\n",
    "fullData = combineData(data)\n",
    "#fullData.to_csv('predictedStats2022.csv')"
   ]
  },
  {
   "cell_type": "code",
   "execution_count": null,
   "id": "d0aff9f0",
   "metadata": {},
   "outputs": [],
   "source": [
    "fullData"
   ]
  },
  {
   "cell_type": "code",
   "execution_count": null,
   "id": "3f00b7a7",
   "metadata": {},
   "outputs": [],
   "source": []
  }
 ],
 "metadata": {
  "kernelspec": {
   "display_name": "mlenv",
   "language": "python",
   "name": "mlenv"
  },
  "language_info": {
   "codemirror_mode": {
    "name": "ipython",
    "version": 3
   },
   "file_extension": ".py",
   "mimetype": "text/x-python",
   "name": "python",
   "nbconvert_exporter": "python",
   "pygments_lexer": "ipython3",
   "version": "3.7.7"
  }
 },
 "nbformat": 4,
 "nbformat_minor": 5
}
