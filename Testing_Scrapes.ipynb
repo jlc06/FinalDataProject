{
 "cells": [
  {
   "cell_type": "code",
   "execution_count": 1,
   "id": "3f88293b",
   "metadata": {},
   "outputs": [],
   "source": [
    "import pandas as pd"
   ]
  },
  {
   "cell_type": "code",
   "execution_count": 2,
   "id": "e9bf66a6",
   "metadata": {},
   "outputs": [],
   "source": [
    "url = 'https://www.pro-football-reference.com/players/H/HerbJu00.htm#passing'"
   ]
  },
  {
   "cell_type": "code",
   "execution_count": null,
   "id": "d07a5e10",
   "metadata": {},
   "outputs": [],
   "source": [
    "Herbert = pd."
   ]
  }
 ],
 "metadata": {
  "kernelspec": {
   "display_name": "Python 3 (ipykernel)",
   "language": "python",
   "name": "python3"
  },
  "language_info": {
   "codemirror_mode": {
    "name": "ipython",
    "version": 3
   },
   "file_extension": ".py",
   "mimetype": "text/x-python",
   "name": "python",
   "nbconvert_exporter": "python",
   "pygments_lexer": "ipython3",
   "version": "3.7.11"
  }
 },
 "nbformat": 4,
 "nbformat_minor": 5
}
