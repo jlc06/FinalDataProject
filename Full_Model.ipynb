{
 "cells": [
  {
   "cell_type": "code",
   "execution_count": null,
   "id": "36392d01",
   "metadata": {},
   "outputs": [],
   "source": [
    "# Import dependencies\n",
    "import pandas as pd\n",
    "from sklearn import linear_model\n",
    "from sqlalchemy import create_engine"
   ]
  },
  {
   "cell_type": "code",
   "execution_count": null,
   "id": "6a23a51d",
   "metadata": {},
   "outputs": [],
   "source": [
    "#Import functions\n",
    "def model(df, position, var):\n",
    "    df = df.dropna()\n",
    "    df = df[df['pos'] == position]   \n",
    "\n",
    "    # the model will use different independent variables depending on position\n",
    "    if position == 'QB':\n",
    "        X = df[var]\n",
    "    elif position == 'RB':\n",
    "        X = df[var]\n",
    "    elif position == 'WR' or 'TE':\n",
    "        X = df[var]\n",
    "    else:\n",
    "        print('Invalid position entered')\n",
    "        return\n",
    "\n",
    "    y = df['next_yr_ppg']\n",
    "    reg = linear_model.LinearRegression()\n",
    "    reg.fit(X, y)\n",
    "    return reg\n",
    "\n",
    "def testModelAccuracy(model, df, position, var):\n",
    "    # creates a df from the csvFile, drops na values and rows where FantPos\n",
    "    # does not equal the position parameter\n",
    "    df = df.dropna()\n",
    "    df = df[df['pos'] == position]\n",
    "\n",
    "    # the model will use different independent variables depending on position\n",
    "    if position == 'QB':\n",
    "        XTest = df[var]\n",
    "    elif position == 'RB':\n",
    "        XTest = df[var]\n",
    "    elif position == 'WR' or 'TE':\n",
    "        XTest = df[var]\n",
    "    else:\n",
    "        print('Invalid position entered')\n",
    "        return\n",
    "\n",
    "    yTest = df['next_yr_ppg']\n",
    "    results = model.score(XTest, yTest)\n",
    "    return results\n",
    "\n",
    "def testModelDifference(model, df, position, var):\n",
    "    # creates a df from the csvFile, drops na values and rows where FantPos\n",
    "    # does not equal the position parameter\n",
    "    df = df.dropna()\n",
    "    df = df[df['pos'] == position]\n",
    "\n",
    "    # the model will use different independent variables depending on position\n",
    "    if position == 'QB':\n",
    "        XTest = df[var]\n",
    "    elif position == 'RB':\n",
    "        XTest = df[var]\n",
    "    elif position == 'WR' or 'TE':\n",
    "        XTest = df[var]\n",
    "    else:\n",
    "        print('Invalid position entered')\n",
    "        return\n",
    "\n",
    "\n",
    "    yPred = model.predict(XTest)\n",
    "    predAndActual = {'Name': df['player'], 'Predicted PPG': yPred,\n",
    "                     'Actual PPG': df['next_yr_ppg']}\n",
    "\n",
    "    # creates df from dictionary above\n",
    "    database = pd.DataFrame(predAndActual)\n",
    "\n",
    "    # creates a difference column which depicts the difference between the\n",
    "    # predicted PPG and actual PPG\n",
    "    database['Predicted PPG'] = database['Predicted PPG'].round(decimals=3)\n",
    "    database['Difference'] = database['Predicted PPG'] - database['Actual PPG']\n",
    "    database['Difference'] = database['Difference'].round(decimals=3)\n",
    "    database['AbsDifference'] = database['Difference'].abs()\n",
    "    meanDiff = round(database['Difference'].mean(), 3)\n",
    "    medianDiff = round(database['Difference'].median(), 3)\n",
    "    meanAbsDiff = round(database['AbsDifference'].mean(), 3)\n",
    "    medianAbsDiff = round(database['AbsDifference'].median(), 3)\n",
    "\n",
    "    return database, meanDiff, medianDiff, meanAbsDiff, medianAbsDiff\n",
    "\n",
    "def testModel(model, test, train, position, var):\n",
    "    accuracy = testModelAccuracy(model, train, position, var)\n",
    "    differences = testModelDifference(model, test, position, var)\n",
    "    meanDiff = differences[1]\n",
    "    medDiff = differences[2]\n",
    "    meanAbsDiff = differences[3]\n",
    "    medAbsDiff = differences[4]\n",
    "\n",
    "    print('The accuracy of the {0} model is {1}'.format(position, accuracy))\n",
    "    print('The {0} model has an average error of {1} PPG and an average absolute error of {2} PPG'.format(position, meanDiff, meanAbsDiff))\n",
    "    print('The {0} model has a median error of {1} PPG and a median absolute error of {2} PPG'.format(position, medDiff, medAbsDiff))\n",
    "    print('\\n')\n",
    "    return\n",
    "\n",
    "def useModel(model, df1, df2, position, var):\n",
    "    df1.dropna()\n",
    "    df2.dropna()\n",
    "    # checks where the Fant Pos is the position given and returns a data frame\n",
    "    # with only the rows that include said position\n",
    "    df1 = df1[df1['pos'] == position]\n",
    "    df2 = df2[df2['pos'] == position]\n",
    "    df2 = df2[['plid','player','ppr_g']]\n",
    "    newdf = df1.merge(df2,how='inner',left_on='plid',right_on='plid')\n",
    "\n",
    "    # the model will use difference parameters based on position\n",
    "    if position == 'QB':\n",
    "        X = df1[var]\n",
    "    elif position == 'RB':\n",
    "        X = df1[var]\n",
    "    elif position == 'WR' or 'TE':\n",
    "        X = df1[var]\n",
    "    else:\n",
    "        print('Invalid position entered')\n",
    "        return\n",
    "    yPred = model.predict(X)\n",
    "\n",
    "    # creates new df with the name of player, their position, and their\n",
    "    # predicted PPG\n",
    "    databaseDict = {'Name': df1['player'], 'Pos': df1['pos'], 'Predicted PPG': yPred}\n",
    "    database = pd.DataFrame(databaseDict)\n",
    "    database = database.merge(df2,how='inner',left_on='Name',right_on='player')\n",
    "    database = database.drop(columns=['player','plid'])\n",
    "    database['Difference'] = database['Predicted PPG'] - database['ppr_g']\n",
    "    database = database.sort_values(by = ['Predicted PPG'], ascending = False)\n",
    "    database['Predicted PPG'] = database['Predicted PPG'].round(decimals = 3)\n",
    "    database['Predicted PPR'] = 17 * database['Predicted PPG']\n",
    "    database['Predicted PPR'] = database['Predicted PPR'].round(decimals = 3)\n",
    "    database['AbsDifference'] = database['Difference'].abs()\n",
    "    meanDiff = round(database['Difference'].mean(), 3)\n",
    "    medianDiff = round(database['Difference'].median(), 3)\n",
    "    meanAbsDiff = round(database['AbsDifference'].mean(), 3)\n",
    "    medianAbsDiff = round(database['AbsDifference'].median(), 3)\n",
    "    print('The {0} model has an average error of {1} PPG and an average absolute error of {2} PPG'.format(position, meanDiff, meanAbsDiff))\n",
    "    print('The {0} model has a median error of {1} PPG and a median absolute error of {2} PPG'.format(position, medianDiff, medianAbsDiff))\n",
    "\n",
    "\n",
    "     # this adds a position rank column to the dataframe\n",
    "#     posRank = []\n",
    "#     posRankNum = 1\n",
    "#     for index, row in newdf.iterrows():\n",
    "#         posRank.append(posRankNum)\n",
    "#         posRankNum += 1\n",
    "\n",
    "#     database['PosRank'] = posRank\n",
    "\n",
    "\n",
    "    database = database.reset_index(drop = True)\n",
    "\n",
    "    return database"
   ]
  },
  {
   "cell_type": "code",
   "execution_count": null,
   "id": "bca79189",
   "metadata": {},
   "outputs": [],
   "source": [
    "# Connect to Database\n",
    "# Postgres username, password, and database name\n",
    "POSTGRES_ADDRESS = 'fballfinalproject.c6sg90iemyn2.us-east-2.rds.amazonaws.com' ## INSERT YOUR DB ADDRESS IF IT'S NOT ON PANOPLY\n",
    "POSTGRES_PORT = '5432'\n",
    "POSTGRES_USERNAME = 'postgres' ## CHANGE THIS TO YOUR PANOPLY/POSTGRES USERNAME\n",
    "POSTGRES_PASSWORD = 'FFForesight5!!' ## CHANGE THIS TO YOUR PANOPLY/POSTGRES PASSWORD \n",
    "POSTGRES_DBNAME = 'postgres' ## CHANGE THIS TO YOUR DATABASE NAME\n",
    "# A long string that contains the necessary Postgres login information\n",
    "postgres_str = ('postgresql://{username}:{password}@{ipaddress}:{port}/{dbname}').format(\n",
    "    username=POSTGRES_USERNAME,\n",
    "    password=POSTGRES_PASSWORD,\n",
    "    ipaddress=POSTGRES_ADDRESS,\n",
    "    port=POSTGRES_PORT,\n",
    "    dbname=POSTGRES_DBNAME)\n",
    "# Create the connection\n",
    "cnx = create_engine(postgres_str)"
   ]
  },
  {
   "cell_type": "code",
   "execution_count": null,
   "id": "e32ed2e7",
   "metadata": {},
   "outputs": [],
   "source": [
    "# Read in dataframes and merge\n",
    "# fantasy = pd.read_sql_query('''SELECT * FROM fantasy;''', cnx)\n",
    "# teams = pd.read_sql_query('''SELECT * FROM teams;''', cnx)\n",
    "# advrush = pd.read_sql_query('''SELECT * FROM advrush;''', cnx)\n",
    "# df = pd.merge(fantasy,teams[['tmid','passrate']],on='tmid', how='inner')\n",
    "# df = pd.merge(df,advrush,on='plid',how='inner')\n",
    "# df = df.drop(columns=['player_y', 'tm_y', 'pos_y',\n",
    "#                       'age_y','G_y', 'gs_y','tmid_y'])\n",
    "# df = df.rename(columns={'player_x':'player','tm_x':'tm','pos_x':'pos','age_x':'age','G_x':'G','gs_x':'gs','tmid_x':'tmid'})\n",
    "# df\n",
    "df = pd.read_sql_query('''SELECT * FROM fantasy;''', cnx)\n",
    "df"
   ]
  },
  {
   "cell_type": "code",
   "execution_count": null,
   "id": "9b8af70b",
   "metadata": {},
   "outputs": [],
   "source": [
    "groups = df.groupby('player')['G'].sum()\n",
    "groupsdf = pd.DataFrame(groups)\n",
    "groupsdf"
   ]
  },
  {
   "cell_type": "code",
   "execution_count": null,
   "id": "009c40a9",
   "metadata": {},
   "outputs": [],
   "source": [
    "rsharesdf['rushshare'] = round(rsharesdf['playrag'] / rsharesdf['teamrag'],3)\n",
    "rsharesdf['targetshare'] = round(rsharesdf['targets'] / rsharesdf['passes'], 3)\n",
    "rsharesdf"
   ]
  },
  {
   "cell_type": "code",
   "execution_count": null,
   "id": "7c3bf97c",
   "metadata": {},
   "outputs": [],
   "source": [
    "df = pd.merge(df,rsharesdf[['plid','rushshare','targetshare']],on='plid',how='inner')\n",
    "df"
   ]
  },
  {
   "cell_type": "code",
   "execution_count": null,
   "id": "af65c07d",
   "metadata": {},
   "outputs": [],
   "source": [
    "# Check column choices\n",
    "df.columns"
   ]
  },
  {
   "cell_type": "code",
   "execution_count": null,
   "id": "00836ed6",
   "metadata": {},
   "outputs": [],
   "source": [
    "# Select columns for each position (WR + TE joined in recvar)\n",
    "qbvar = ['age','passatt_g','passyds_g','passtd_g','rushatt_g','rushyds_g',\n",
    "         'rushyds_att','ppr_g','starter','next_yr_starter']\n",
    "rbvar = ['age','rushatt_g','rushyds_g','rushyds_att','tgt_g','rec_g',\n",
    "         'recyds_g','yds_rec','ppr_g','rushshare','targetshare']\n",
    "recvar = ['age','tgt_g','rec_g','recyds_g','yds_rec','passrate','targetshare']"
   ]
  },
  {
   "cell_type": "code",
   "execution_count": null,
   "id": "06179b0d",
   "metadata": {},
   "outputs": [],
   "source": [
    "# Separate into training, testing, using, and actual data by Yr (Fantasy) or Year (other dataframes)\n",
    "train = df[df['yr'] <= 2012]\n",
    "test = df[(df['yr'] >= 2018) & (df['yr'] <= 2019)]\n",
    "use = df[df['yr'] == 2019]\n",
    "use = use[use['next_yr_starter'].notna()]\n",
    "use = use.astype({\"next_yr_starter\": int})\n",
    "actuals = df[df['yr'] == 2020]"
   ]
  },
  {
   "cell_type": "code",
   "execution_count": null,
   "id": "103bf2c8",
   "metadata": {},
   "outputs": [],
   "source": [
    "# Name model and put in position\n",
    "RBmodel = model(train, \"RB\", rbvar)\n",
    "WRmodel = model(train, \"WR\", recvar)\n",
    "TEmodel = model(train, \"TE\", recvar)\n",
    "testModel(RBmodel, test, train, \"RB\", rbvar)\n",
    "testModel(WRmodel, test, train, \"WR\", recvar)\n",
    "testModel(TEmodel, test, train, \"TE\", recvar)"
   ]
  },
  {
   "cell_type": "code",
   "execution_count": null,
   "id": "94b7ffda",
   "metadata": {},
   "outputs": [],
   "source": [
    "# Use model to make predictions and check predictions\n",
    "RBStats = useModel(RBmodel, use, actuals,'RB', rbvar)\n",
    "WRStats = useModel(WRmodel, use, actuals, 'WR', recvar)\n",
    "TEStats = useModel(TEmodel, use, actuals, 'TE', recvar)"
   ]
  },
  {
   "cell_type": "code",
   "execution_count": null,
   "id": "f034c075",
   "metadata": {},
   "outputs": [],
   "source": [
    "pd.set_option('display.max_rows', None)\n",
    "RBStats"
   ]
  },
  {
   "cell_type": "code",
   "execution_count": null,
   "id": "d1e94521",
   "metadata": {},
   "outputs": [],
   "source": [
    "RBStats.sort_values(by=['AbsDifference'])"
   ]
  },
  {
   "cell_type": "code",
   "execution_count": null,
   "id": "db23c387",
   "metadata": {},
   "outputs": [],
   "source": [
    "WRStats"
   ]
  },
  {
   "cell_type": "code",
   "execution_count": null,
   "id": "9a5023fa",
   "metadata": {},
   "outputs": [],
   "source": [
    "WRStats.sort_values(by=['AbsDifference'])"
   ]
  },
  {
   "cell_type": "code",
   "execution_count": null,
   "id": "f81e3092",
   "metadata": {},
   "outputs": [],
   "source": [
    "TEStats"
   ]
  },
  {
   "cell_type": "code",
   "execution_count": null,
   "id": "6232ea28",
   "metadata": {},
   "outputs": [],
   "source": [
    "TEStats.sort_values(by=['AbsDifference'])"
   ]
  },
  {
   "cell_type": "code",
   "execution_count": null,
   "id": "0ee6c79c",
   "metadata": {},
   "outputs": [],
   "source": []
  }
 ],
 "metadata": {
  "kernelspec": {
   "display_name": "mlenv",
   "language": "python",
   "name": "mlenv"
  },
  "language_info": {
   "codemirror_mode": {
    "name": "ipython",
    "version": 3
   },
   "file_extension": ".py",
   "mimetype": "text/x-python",
   "name": "python",
   "nbconvert_exporter": "python",
   "pygments_lexer": "ipython3",
   "version": "3.7.7"
  }
 },
 "nbformat": 4,
 "nbformat_minor": 5
}
