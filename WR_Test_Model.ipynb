{
 "cells": [
  {
   "cell_type": "code",
   "execution_count": 1,
   "id": "26085338",
   "metadata": {},
   "outputs": [],
   "source": [
    "import pandas as pd\n",
    "import numpy as np\n",
    "from sklearn import linear_model\n",
    "from sklearn.model_selection import train_test_split\n",
    "from sklearn.linear_model import LogisticRegression"
   ]
  },
  {
   "cell_type": "code",
   "execution_count": 2,
   "id": "b8b0fffa",
   "metadata": {},
   "outputs": [],
   "source": [
    "df1 = pd.read_csv('Advanced_Table_Clean/fantasyDB.csv')\n",
    "\n",
    "\n",
    "df2 = pd.read_csv('Advanced_Table_Clean/advancedRec.csv')\n",
    "\n",
    "df = pd.merge(df1,df2[['PlID', 'AvgDOT', 'YAC/G', 'YBC/G', 'YdsBC/Rec',\n",
    "                       'YdsAC/Rec', 'PassRat']], on= 'PlID', how='inner')\n",
    "\n",
    "\n",
    "df_join = df.to_csv('Joined.csv', index = True)\n"
   ]
  },
  {
   "cell_type": "code",
   "execution_count": 16,
   "id": "9931252a",
   "metadata": {},
   "outputs": [
    {
     "data": {
      "text/plain": [
       "1471"
      ]
     },
     "execution_count": 16,
     "metadata": {},
     "output_type": "execute_result"
    }
   ],
   "source": [
    "df['Yr'].count()"
   ]
  },
  {
   "cell_type": "code",
   "execution_count": 4,
   "id": "5e027e58",
   "metadata": {},
   "outputs": [],
   "source": [
    "def createPosModel(file, position):\n",
    "    # creates a df from the csvFile, drops na values and rows where FantPos\n",
    "    # does not equal the position parameter\n",
    "    df = pd.read_csv(file)\n",
    "    df = df.dropna()\n",
    "    df = df[df['Pos'] == position]\n",
    "    #train = df[df['Yr'] <= 2018]\n",
    "    \n",
    "    \n",
    "    # the model will use different independent variables depending on position\n",
    "    if position == 'QB':\n",
    "        X = df[['PassAtt/G','PassYds/G', 'PassTD/G', 'Int/G', 'RushAtt/G', 'RushYds/G',\n",
    "                    'RushYds/Att', 'RushTD/G','TotTD/G','PPR/G']]\n",
    "    elif position == 'RB':\n",
    "        X = df[['Age', 'RushAtt/G', 'RushYds/G','RushYds/Att', 'RushTD/G', 'Tgt/G', \n",
    "                    'Rec/G', 'RecYds/G', 'Yds/Rec','RecTD/G','TotTD/G','PPR/G']]\n",
    "    elif position == 'WR' or 'TE':\n",
    "        X = df[['Tgt/G','Rec/G','RecYds/G','Yds/Rec','RecTD/G','TotTD/G','PPR/G', 'AvgDOT', 'YAC/G', 'YBC/G', 'Tgt/G', 'YdsBC/Rec',\n",
    "                       'YdsAC/Rec']]\n",
    "    else:\n",
    "        print('Invalid position entered')\n",
    "        return\n",
    "\n",
    "    y = df['Next_Yr_PPG']\n",
    "    reg = linear_model.LinearRegression()\n",
    "    reg.fit(X, y)\n",
    "    return reg"
   ]
  },
  {
   "cell_type": "code",
   "execution_count": 5,
   "id": "ea732e0d",
   "metadata": {},
   "outputs": [],
   "source": [
    "def testModelAccuracy(model, file, position):\n",
    "    # creates a df from the csvFile, drops na values and rows where FantPos\n",
    "    # does not equal the position parameter\n",
    "    df = pd.read_csv(file)\n",
    "    df = df.dropna()\n",
    "    df = df[df['Pos'] == position]\n",
    "\n",
    "    # the model will use different independent variables depending on position\n",
    "    if position == 'QB':\n",
    "        XTest = df[['PassAtt/G','PassYds/G', 'PassTD/G', 'Int/G', 'RushAtt/G', 'RushYds/G',\n",
    "                    'RushYds/Att', 'RushTD/G','TotTD/G','PPR/G']]\n",
    "    elif position == 'RB':\n",
    "        XTest = df[['Age', 'RushAtt/G', 'RushYds/G','RushYds/Att', 'RushTD/G', 'Tgt/G', \n",
    "                    'Rec/G', 'RecYds/G', 'Yds/Rec','RecTD/G','TotTD/G','PPR/G']]\n",
    "    elif position == 'WR' or 'TE':\n",
    "        XTest = df[['Tgt/G','Rec/G','RecYds/G','Yds/Rec','RecTD/G','TotTD/G','PPR/G', 'AvgDOT', 'YAC/G', 'YBC/G', 'Tgt/G', 'YdsBC/Rec',\n",
    "                       'YdsAC/Rec']]\n",
    "    else:\n",
    "        print('Invalid position entered')\n",
    "        return\n",
    "\n",
    "    yTest = df['Next_Yr_PPG']\n",
    "    results = model.score(XTest, yTest)\n",
    "    return results"
   ]
  },
  {
   "cell_type": "code",
   "execution_count": 6,
   "id": "f605fe33",
   "metadata": {},
   "outputs": [],
   "source": [
    "def testModelDifference(model, file, position):\n",
    "    # creates a df from the csvFile, drops na values and rows where FantPos\n",
    "    # does not equal the position parameter\n",
    "    df = pd.read_csv(file)\n",
    "    df = df.dropna()\n",
    "    df = df[df['Pos'] == position]\n",
    "\n",
    "    # the model will use different independent variables depending on position\n",
    "    if position == 'QB':\n",
    "        XTest = df[['PassAtt/G','PassYds/G', 'PassTD/G', 'Int/G', 'RushAtt/G', 'RushYds/G',\n",
    "                    'RushYds/Att', 'RushTD/G','TotTD/G','PPR/G']]\n",
    "    elif position == 'RB':\n",
    "        XTest = df[['Age', 'RushAtt/G', 'RushYds/G','RushYds/Att', 'RushTD/G', 'Tgt/G', \n",
    "                    'Rec/G', 'RecYds/G', 'Yds/Rec','RecTD/G','TotTD/G','PPR/G']]\n",
    "    elif position == 'WR' or 'TE':\n",
    "        XTest = df[['Tgt/G','Rec/G','RecYds/G','Yds/Rec','RecTD/G','TotTD/G','PPR/G', 'AvgDOT', 'YAC/G', 'YBC/G', 'Tgt/G', 'YdsBC/Rec',\n",
    "                       'YdsAC/Rec']]\n",
    "    else:\n",
    "        print('Invalid position entered')\n",
    "        return\n",
    "\n",
    "\n",
    "    yPred = model.predict(XTest)\n",
    "    predAndActual = {'Name': df['Player'], 'Predicted PPG': yPred,\n",
    "                     'Actual PPG': df['Next_Yr_PPG']}\n",
    "\n",
    "    # creates df from dictionary above\n",
    "    database = pd.DataFrame(predAndActual)\n",
    "\n",
    "    # creates a difference column which depicts the difference between the\n",
    "    # predicted PPG and actual PPG\n",
    "    database['Predicted PPG'] = database['Predicted PPG'].round(decimals=3)\n",
    "    database['Difference'] = database['Predicted PPG'] - database['Actual PPG']\n",
    "    database['Difference'] = database['Difference'].round(decimals=3)\n",
    "    database['AbsDifference'] = database['Difference'].abs()\n",
    "    meanDiff = round(database['Difference'].mean(), 3)\n",
    "    medianDiff = round(database['Difference'].median(), 3)\n",
    "    meanAbsDiff = round(database['AbsDifference'].mean(), 3)\n",
    "    medianAbsDiff = round(database['AbsDifference'].median(), 3)\n",
    "\n",
    "    return database, meanDiff, medianDiff, meanAbsDiff, medianAbsDiff"
   ]
  },
  {
   "cell_type": "code",
   "execution_count": 7,
   "id": "b1a733e7",
   "metadata": {},
   "outputs": [],
   "source": [
    "def testModel(model, test, train, position):#, var):\n",
    "    accuracy = testModelAccuracy(model, train, position)#, var)\n",
    "    differences = testModelDifference(model, test, position)#, var)\n",
    "    meanDiff = differences[1]\n",
    "    medDiff = differences[2]\n",
    "    meanAbsDiff = differences[3]\n",
    "    medAbsDiff = differences[4]\n",
    "\n",
    "    print('The accuracy of the {0} model is {1}'.format(position, accuracy))\n",
    "    print('The {0} model has an average error of {1} PPG and an average absolute error of {2} PPG'.format(position, meanDiff, meanAbsDiff))\n",
    "    print('The {0} model has a median error of {1} PPG and a median absolute error of {2} PPG'.format(position, medDiff, medAbsDiff))\n",
    "    print('\\n')\n",
    "    return"
   ]
  },
  {
   "cell_type": "code",
   "execution_count": 8,
   "id": "29fa8b58",
   "metadata": {},
   "outputs": [],
   "source": [
    "def useModel(model, df1, df2, position, var):\n",
    "    df1.dropna()\n",
    "    df2.dropna()\n",
    "    # checks where the Fant Pos is the position given and returns a data frame\n",
    "    # with only the rows that include said position\n",
    "    df1 = df1[df1['pos'] == position]\n",
    "    df2 = df2[df2['pos'] == position]\n",
    "    df2 = df2[['plid','player','ppr_g']]\n",
    "    newdf = df1.merge(df2,how='inner',left_on='plid',right_on='plid')\n",
    "\n",
    "    # the model will use difference parameters based on position\n",
    "    if position == 'QB':\n",
    "        X = df1[var]\n",
    "    elif position == 'RB':\n",
    "        X = df1[var]\n",
    "    elif position == 'WR' or 'TE':\n",
    "        X = df1[var]\n",
    "    else:\n",
    "        print('Invalid position entered')\n",
    "        return\n",
    "    yPred = model.predict(X)\n",
    "    \n",
    "    database = database.reset_index(drop = True)\n",
    "\n",
    "    return database"
   ]
  },
  {
   "cell_type": "code",
   "execution_count": 9,
   "id": "c033ff90",
   "metadata": {},
   "outputs": [
    {
     "data": {
      "text/plain": [
       "LinearRegression()"
      ]
     },
     "execution_count": 9,
     "metadata": {},
     "output_type": "execute_result"
    }
   ],
   "source": [
    "WR_Model = createPosModel('Joined.csv',\"WR\")\n",
    "WR_Model"
   ]
  },
  {
   "cell_type": "code",
   "execution_count": 10,
   "id": "024e360f",
   "metadata": {},
   "outputs": [
    {
     "data": {
      "text/plain": [
       "1     2020\n",
       "2     2019\n",
       "4     2020\n",
       "6     2020\n",
       "8     2020\n",
       "9     2019\n",
       "11    2020\n",
       "13    2020\n",
       "14    2019\n",
       "17    2020\n",
       "18    2019\n",
       "20    2020\n",
       "21    2019\n",
       "23    2020\n",
       "25    2020\n",
       "26    2019\n",
       "28    2020\n",
       "30    2019\n",
       "32    2020\n",
       "33    2019\n",
       "35    2020\n",
       "36    2019\n",
       "38    2020\n",
       "40    2020\n",
       "41    2019\n",
       "42    2019\n",
       "44    2020\n",
       "45    2019\n",
       "46    2020\n",
       "47    2019\n",
       "49    2020\n",
       "50    2019\n",
       "52    2020\n",
       "53    2019\n",
       "54    2020\n",
       "55    2019\n",
       "57    2020\n",
       "58    2019\n",
       "60    2020\n",
       "61    2019\n",
       "64    2020\n",
       "65    2019\n",
       "67    2019\n",
       "69    2020\n",
       "70    2019\n",
       "71    2019\n",
       "72    2020\n",
       "73    2019\n",
       "75    2020\n",
       "76    2019\n",
       "Name: Yr, dtype: int64"
      ]
     },
     "execution_count": 10,
     "metadata": {},
     "output_type": "execute_result"
    }
   ],
   "source": [
    "# Separate into training, testing, using, and actual data by Yr (Fantasy) or Year (other dataframes)\n",
    "train = df[df['Yr'] <= 2019]\n",
    "test = df[(df['Yr'] >= 2019) & (df['Yr'] <= 2020)]\n",
    "use = df[df['Yr'] == 2020]\n",
    "use = use[use['Next_Yr_Starter'].notna()]\n",
    "use = use.astype({\"Next_Yr_Starter\": int})\n",
    "actuals = df[df['Yr'] == 2021]\n",
    "\n",
    "test['Yr'].head(50)\n"
   ]
  },
  {
   "cell_type": "code",
   "execution_count": 21,
   "id": "4fa3dc0e",
   "metadata": {},
   "outputs": [
    {
     "name": "stdout",
     "output_type": "stream",
     "text": [
      "The accuracy of the WR model is 0.6162917736679171\n",
      "The WR model has an average error of -0.0 PPG and an average absolute error of 2.547 PPG\n",
      "The WR model has a median error of 0.264 PPG and a median absolute error of 1.957 PPG\n",
      "\n",
      "\n"
     ]
    }
   ],
   "source": [
    "testModel(WR_Model, 'Joined.csv', 'Joined.csv', \"WR\" )"
   ]
  },
  {
   "cell_type": "code",
   "execution_count": null,
   "id": "74ac36d4",
   "metadata": {},
   "outputs": [],
   "source": []
  }
 ],
 "metadata": {
  "kernelspec": {
   "display_name": "mlenv",
   "language": "python",
   "name": "mlenv"
  },
  "language_info": {
   "codemirror_mode": {
    "name": "ipython",
    "version": 3
   },
   "file_extension": ".py",
   "mimetype": "text/x-python",
   "name": "python",
   "nbconvert_exporter": "python",
   "pygments_lexer": "ipython3",
   "version": "3.7.13"
  }
 },
 "nbformat": 4,
 "nbformat_minor": 5
}
