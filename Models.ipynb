{
 "cells": [
  {
   "cell_type": "code",
   "execution_count": null,
   "id": "081ee4ad",
   "metadata": {},
   "outputs": [],
   "source": [
    "from sklearn import linear_model\n",
    "import pandas as pd"
   ]
  },
  {
   "cell_type": "code",
   "execution_count": null,
   "id": "d91f7459",
   "metadata": {},
   "outputs": [],
   "source": [
    "def createPosModel(file, position):\n",
    "    # creates a df from the csvFile, drops na values and rows where FantPos\n",
    "    # does not equal the position parameter\n",
    "    df = pd.read_csv(file)\n",
    "    df = df.dropna()\n",
    "    df = df[df['FantPos'] == position]\n",
    "    \n",
    "    # the model will use different independent variables depending on position\n",
    "    if position == 'QB':\n",
    "        X = df[['PassAtt/G','PassYds/G', 'PassTD/G', 'Int/G', 'RushAtt/G', 'RushYds/G',\n",
    "                    'RushYds/Att', 'RushTD/G','TotTD/G','PPR/G']]\n",
    "    elif position == 'RB':\n",
    "        X = df[['Age', 'RushAtt/G', 'RushYds/G','RushYds/Att', 'RushTD/G', 'Tgt/G', \n",
    "                    'Rec/G', 'RecYds/G', 'Yds/Rec','RecTD/G','TotTD/G','PPR/G']]\n",
    "    elif position == 'WR' or 'TE':\n",
    "        X = df[['Tgt/G','Rec/G','RecYds/G','Yds/Rec','RecTD/G','TotTD/G','PPR/G']]\n",
    "    else:\n",
    "        print('Invalid position entered')\n",
    "        return\n",
    "\n",
    "    y = df['Next_Yr_PPG']\n",
    "    reg = linear_model.LinearRegression()\n",
    "    reg.fit(X, y)\n",
    "    return reg"
   ]
  },
  {
   "cell_type": "code",
   "execution_count": null,
   "id": "d94a93a6",
   "metadata": {},
   "outputs": [],
   "source": [
    "def testModelAccuracy(model, file, position):\n",
    "    # creates a df from the csvFile, drops na values and rows where FantPos\n",
    "    # does not equal the position parameter\n",
    "    df = pd.read_csv(file)\n",
    "    df = df.dropna()\n",
    "    df = df[df['FantPos'] == position]\n",
    "\n",
    "    # the model will use different independent variables depending on position\n",
    "    if position == 'QB':\n",
    "        XTest = df[['PassAtt/G','PassYds/G', 'PassTD/G', 'Int/G', 'RushAtt/G', 'RushYds/G',\n",
    "                    'RushYds/Att', 'RushTD/G','TotTD/G','PPR/G']]\n",
    "    elif position == 'RB':\n",
    "        XTest = df[['Age', 'RushAtt/G', 'RushYds/G','RushYds/Att', 'RushTD/G', 'Tgt/G', \n",
    "                    'Rec/G', 'RecYds/G', 'Yds/Rec','RecTD/G','TotTD/G','PPR/G']]\n",
    "    elif position == 'WR' or 'TE':\n",
    "        XTest = df[['Tgt/G','Rec/G','RecYds/G','Yds/Rec','RecTD/G','TotTD/G','PPR/G']]\n",
    "    else:\n",
    "        print('Invalid position entered')\n",
    "        return\n",
    "\n",
    "    yTest = df['Next_Yr_PPG']\n",
    "    results = model.score(XTest, yTest)\n",
    "    return results"
   ]
  },
  {
   "cell_type": "code",
   "execution_count": null,
   "id": "5761b284",
   "metadata": {},
   "outputs": [],
   "source": [
    "def testModelDifference(model, file, position):\n",
    "    # creates a df from the csvFile, drops na values and rows where FantPos\n",
    "    # does not equal the position parameter\n",
    "    df = pd.read_csv(file)\n",
    "    df = df.dropna()\n",
    "    df = df[df['FantPos'] == position]\n",
    "\n",
    "    # the model will use different independent variables depending on position\n",
    "    if position == 'QB':\n",
    "        XTest = df[['PassAtt/G','PassYds/G', 'PassTD/G', 'Int/G', 'RushAtt/G', 'RushYds/G',\n",
    "                    'RushYds/Att', 'RushTD/G','TotTD/G','PPR/G']]\n",
    "    elif position == 'RB':\n",
    "        XTest = df[['Age', 'RushAtt/G', 'RushYds/G','RushYds/Att', 'RushTD/G', 'Tgt/G', \n",
    "                    'Rec/G', 'RecYds/G', 'Yds/Rec','RecTD/G','TotTD/G','PPR/G']]\n",
    "    elif position == 'WR' or 'TE':\n",
    "        XTest = df[['Tgt/G','Rec/G','RecYds/G','Yds/Rec','RecTD/G','TotTD/G','PPR/G']]\n",
    "    else:\n",
    "        print('Invalid position entered')\n",
    "        return\n",
    "\n",
    "\n",
    "    yPred = model.predict(XTest)\n",
    "    predAndActual = {'Name': df['Player'], 'Predicted PPG': yPred,\n",
    "                     'Actual PPG': df['Next_Yr_PPG']}\n",
    "\n",
    "    # creates df from dictionary above\n",
    "    database = pd.DataFrame(predAndActual)\n",
    "\n",
    "    # creates a difference column which depicts the difference between the\n",
    "    # predicted PPG and actual PPG\n",
    "    database['Predicted PPG'] = database['Predicted PPG'].round(decimals=3)\n",
    "    database['Difference'] = database['Predicted PPG'] - database['Actual PPG']\n",
    "    database['Difference'] = database['Difference'].round(decimals=3)\n",
    "    database['AbsDifference'] = database['Difference'].abs()\n",
    "    meanDiff = round(database['Difference'].mean(), 3)\n",
    "    medianDiff = round(database['Difference'].median(), 3)\n",
    "    meanAbsDiff = round(database['AbsDifference'].mean(), 3)\n",
    "    medianAbsDiff = round(database['AbsDifference'].median(), 3)\n",
    "\n",
    "    return database, meanDiff, medianDiff, meanAbsDiff, medianAbsDiff"
   ]
  },
  {
   "cell_type": "code",
   "execution_count": null,
   "id": "85076ad2",
   "metadata": {},
   "outputs": [],
   "source": [
    "def testModel(model, testCSV, trainingCSV, position):\n",
    "    accuracy = testModelAccuracy(model, trainingCSV, position)\n",
    "    differences = testModelDifference(model, testCSV, position)\n",
    "    meanDiff = differences[1]\n",
    "    medDiff = differences[2]\n",
    "    meanAbsDiff = differences[3]\n",
    "    medAbsDiff = differences[4]\n",
    "\n",
    "    print('The accuracy of the {0} model is {1}'.format(position, accuracy))\n",
    "    print('The {0} model has an average error of {1} PPG and an average absolute error of {2} PPG'.format(position, meanDiff, meanAbsDiff))\n",
    "    print('The {0} model has a median error of {1} PPG and a median absolute error of {2} PPG'.format(position, medDiff, medAbsDiff))\n",
    "    print('\\n')\n",
    "    return"
   ]
  },
  {
   "cell_type": "code",
   "execution_count": null,
   "id": "bd38a75e",
   "metadata": {},
   "outputs": [],
   "source": []
  },
  {
   "cell_type": "code",
   "execution_count": null,
   "id": "130e2766",
   "metadata": {},
   "outputs": [],
   "source": []
  },
  {
   "cell_type": "code",
   "execution_count": null,
   "id": "c784472f",
   "metadata": {},
   "outputs": [],
   "source": []
  },
  {
   "cell_type": "code",
   "execution_count": null,
   "id": "38bf71de",
   "metadata": {},
   "outputs": [],
   "source": []
  },
  {
   "cell_type": "code",
   "execution_count": null,
   "id": "0e6fe09e",
   "metadata": {},
   "outputs": [],
   "source": []
  },
  {
   "cell_type": "code",
   "execution_count": null,
   "id": "351019e4",
   "metadata": {},
   "outputs": [],
   "source": []
  },
  {
   "cell_type": "code",
   "execution_count": null,
   "id": "13c02dd5",
   "metadata": {},
   "outputs": [],
   "source": []
  }
 ],
 "metadata": {
  "kernelspec": {
   "display_name": "mlenv",
   "language": "python",
   "name": "mlenv"
  },
  "language_info": {
   "codemirror_mode": {
    "name": "ipython",
    "version": 3
   },
   "file_extension": ".py",
   "mimetype": "text/x-python",
   "name": "python",
   "nbconvert_exporter": "python",
   "pygments_lexer": "ipython3",
   "version": "3.7.7"
  }
 },
 "nbformat": 4,
 "nbformat_minor": 5
}
