{
 "cells": [
  {
   "cell_type": "code",
   "execution_count": null,
   "id": "0f04469d",
   "metadata": {},
   "outputs": [],
   "source": [
    "import pandas as pd\n",
    "from pandas import DataFrame, Series\n",
    "from sklearn.ensemble import RandomForestClassifier\n",
    "from sklearn.model_selection import train_test_split, cross_val_score"
   ]
  },
  {
   "cell_type": "code",
   "execution_count": null,
   "id": "566da6de",
   "metadata": {},
   "outputs": [],
   "source": [
    "df = pd.read_csv(sample.csv')"
   ]
  },
  {
   "cell_type": "code",
   "execution_count": null,
   "id": "91223ecd",
   "metadata": {},
   "outputs": [],
   "source": [
    "#crete variables\n",
    "xvars = df['carries', 'rush_yards', 'rush_fumbles', 'rush_tds', 'targets',\n",
    "         'receptions', 'rec_yards', 'raw_yac', 'rec_fumbles', 'rec_tds',\n",
    "         'ac_tds', 'rec_raw_airyards', 'caught_airyards', 'attempts',\n",
    "         'completions', 'pass_yards', 'pass_raw_airyards', 'comp_airyards',\n",
    "         'timeshit', 'interceptions', 'pass_tds', 'air_tds']\n",
    "yvar = df['pos']"
   ]
  },
  {
   "cell_type": "code",
   "execution_count": null,
   "id": "b7479601",
   "metadata": {},
   "outputs": [],
   "source": [
    "#create train/ test split\n",
    "train, test = train_test_split(df, test_size=0.20)"
   ]
  },
  {
   "cell_type": "code",
   "execution_count": null,
   "id": "2e6d9c21",
   "metadata": {},
   "outputs": [],
   "source": [
    "model = RandomForestClassifier(n_estimators=100)\n",
    "model.fit(train[xvars], train[yvar])"
   ]
  },
  {
   "cell_type": "code",
   "execution_count": null,
   "id": "3a21025e",
   "metadata": {},
   "outputs": [],
   "source": [
    "test['pos_hat'] = model.predict(test[xvars])\n",
    "test['correct'] = (test['pos_hat'] == test['pos'])\n",
    "test['correct'].mean()"
   ]
  },
  {
   "cell_type": "code",
   "execution_count": null,
   "id": "9584d0a9",
   "metadata": {},
   "outputs": [],
   "source": [
    "model.predict_proba(test[xvars])"
   ]
  },
  {
   "cell_type": "code",
   "execution_count": null,
   "id": "fbed75f0",
   "metadata": {},
   "outputs": [],
   "source": [
    "\n",
    "probs = DataFrame(model.predict_proba(test[xvars]),\n",
    "                  index=test.index,\n",
    "                  columns=model.classes_)\n",
    "probs.head()"
   ]
  },
  {
   "cell_type": "code",
   "execution_count": null,
   "id": "b4cd4bce",
   "metadata": {},
   "outputs": [],
   "source": [
    "results = pd.concat([\n",
    "    test[['player_id', 'player_name', 'pos', 'pos_hat', 'correct']],\n",
    "    probs], axis=1)\n",
    "results.head()"
   ]
  },
  {
   "cell_type": "code",
   "execution_count": null,
   "id": "cb5c9d16",
   "metadata": {},
   "outputs": [],
   "source": [
    "results.groupby('pos')[['correct', 'QB', 'RB', 'WR', 'TE']].mean()"
   ]
  },
  {
   "cell_type": "code",
   "execution_count": null,
   "id": "61ac44e0",
   "metadata": {},
   "outputs": [],
   "source": [
    "# feature importance\n",
    "Series(model.feature_importances_, xvars).sort_values(ascending=False)"
   ]
  }
 ],
 "metadata": {
  "kernelspec": {
   "display_name": "mlenv",
   "language": "python",
   "name": "mlenv"
  },
  "language_info": {
   "codemirror_mode": {
    "name": "ipython",
    "version": 3
   },
   "file_extension": ".py",
   "mimetype": "text/x-python",
   "name": "python",
   "nbconvert_exporter": "python",
   "pygments_lexer": "ipython3",
   "version": "3.7.13"
  }
 },
 "nbformat": 4,
 "nbformat_minor": 5
}
